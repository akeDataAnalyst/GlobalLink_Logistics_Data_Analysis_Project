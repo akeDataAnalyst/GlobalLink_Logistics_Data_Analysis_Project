{
 "cells": [
  {
   "cell_type": "code",
   "execution_count": 1,
   "id": "ceb86bb8-09a8-411d-8060-ded0da3cbf92",
   "metadata": {},
   "outputs": [
    {
     "name": "stdout",
     "output_type": "stream",
     "text": [
      "Synthetic dataset with 1000 rows has been successfully created and saved to supply_chain_data.csv\n"
     ]
    }
   ],
   "source": [
    "import pandas as pd\n",
    "import numpy as np\n",
    "from datetime import datetime, timedelta\n",
    "\n",
    "# Configuration \n",
    "NUM_ROWS = 1000  \n",
    "\n",
    "product_categories = ['Electronics', 'Apparel', 'Home Goods', 'Books', 'Groceries', 'Toys']\n",
    "carriers = ['FedEx', 'UPS', 'DHL', 'USPS']\n",
    "order_statuses = ['Delivered', 'Shipped', 'Pending', 'Canceled']\n",
    "cities = ['New York', 'Los Angeles', 'Chicago', 'Houston', 'Phoenix', 'Philadelphia', 'San Antonio', 'San Diego', 'Dallas', 'San Jose']\n",
    "states = ['NY', 'CA', 'IL', 'TX', 'AZ', 'PA']\n",
    "\n",
    "# Generate Data\n",
    "data = {}\n",
    "\n",
    "# Generate Order IDs\n",
    "data['Order ID'] = range(10001, 10001 + NUM_ROWS)\n",
    "\n",
    "# Generate Dates\n",
    "start_date = datetime(2023, 1, 1)\n",
    "dates = [start_date + timedelta(days=np.random.randint(0, 365)) for _ in range(NUM_ROWS)]\n",
    "data['Order Date'] = dates\n",
    "data['Shipment Date'] = [d + timedelta(days=np.random.randint(1, 3)) for d in dates]\n",
    "data['Delivery Date'] = [d + timedelta(days=np.random.randint(2, 7)) for d in data['Shipment Date']]\n",
    "\n",
    "# Generate Categorical Data\n",
    "data['Product Category'] = np.random.choice(product_categories, size=NUM_ROWS)\n",
    "data['Carrier'] = np.random.choice(carriers, size=NUM_ROWS)\n",
    "data['Order Status'] = np.random.choice(order_statuses, size=NUM_ROWS, p=[0.75, 0.15, 0.05, 0.05]) # Weighted distribution\n",
    "\n",
    "# Generate Location Data\n",
    "data['Customer City'] = np.random.choice(cities, size=NUM_ROWS)\n",
    "data['Customer State'] = np.random.choice(states, size=NUM_ROWS)\n",
    "\n",
    "# Generate Numerical Data\n",
    "data['Quantity'] = np.random.randint(1, 6, size=NUM_ROWS)\n",
    "data['Unit Price'] = np.round(np.random.uniform(10.0, 500.0, size=NUM_ROWS), 2)\n",
    "data['Shipping Cost'] = np.round(np.random.uniform(5.0, 20.0, size=NUM_ROWS), 2)\n",
    "\n",
    "# Create DataFrame \n",
    "df = pd.DataFrame(data)\n",
    "\n",
    "# Add Calculated Columns\n",
    "# Total Revenue\n",
    "df['Total Revenue'] = df['Quantity'] * df['Unit Price']\n",
    "\n",
    "# Shipping Time (in days)\n",
    "df['Shipping Time (Days)'] = (df['Delivery Date'] - df['Shipment Date']).dt.days\n",
    "\n",
    "# ntroduce Data Inconsistencies (for cleansing demo) \n",
    "# Intentionally misspell some carrier names\n",
    "df.loc[df.sample(frac=0.03).index, 'Carrier'] = 'FedEX'\n",
    "df.loc[df.sample(frac=0.02).index, 'Carrier'] = 'UPSS'\n",
    "\n",
    "# Intentionally misspell some statuses\n",
    "df.loc[df.sample(frac=0.02).index, 'Order Status'] = 'delivered'\n",
    "df.loc[df.sample(frac=0.01).index, 'Order Status'] = 'shippedd'\n",
    "\n",
    "# Save to CSV \n",
    "file_path = 'supply_chain_data.csv'\n",
    "df.to_csv(file_path, index=False)\n",
    "\n",
    "print(f\"Synthetic dataset with {NUM_ROWS} rows has been successfully created and saved to {file_path}\")"
   ]
  },
  {
   "cell_type": "code",
   "execution_count": null,
   "id": "bb86cd91-b18f-4911-83e9-c9ed1bbd92ba",
   "metadata": {},
   "outputs": [],
   "source": []
  }
 ],
 "metadata": {
  "kernelspec": {
   "display_name": "Python 3 (ipykernel)",
   "language": "python",
   "name": "python3"
  },
  "language_info": {
   "codemirror_mode": {
    "name": "ipython",
    "version": 3
   },
   "file_extension": ".py",
   "mimetype": "text/x-python",
   "name": "python",
   "nbconvert_exporter": "python",
   "pygments_lexer": "ipython3",
   "version": "3.11.4"
  }
 },
 "nbformat": 4,
 "nbformat_minor": 5
}
